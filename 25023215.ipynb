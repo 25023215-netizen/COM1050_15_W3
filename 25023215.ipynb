{
 "cells": [
  {
   "cell_type": "markdown",
   "id": "e115c578-f518-44c3-a19a-6a562a28a3d8",
   "metadata": {},
   "source": [
    "# W3A2"
   ]
  },
  {
   "cell_type": "code",
   "execution_count": 2,
   "id": "ad586a35-ff2b-44b1-9d3b-c7837a6485e1",
   "metadata": {},
   "outputs": [
    {
     "name": "stdin",
     "output_type": "stream",
     "text": [
      " 3\n",
      " 4\n"
     ]
    }
   ],
   "source": [
    "a = input()\n",
    "b = input()"
   ]
  },
  {
   "cell_type": "code",
   "execution_count": 3,
   "id": "916e3228-28df-45ee-87dc-2c9ff84d4f64",
   "metadata": {},
   "outputs": [
    {
     "name": "stdout",
     "output_type": "stream",
     "text": [
      "4 3\n"
     ]
    }
   ],
   "source": [
    "a , b = b , a\n",
    "print(a , b)"
   ]
  },
  {
   "cell_type": "markdown",
   "id": "40e6f5cd-44cf-48fe-b03b-8d4ef8eebf3e",
   "metadata": {},
   "source": [
    "# W3A3"
   ]
  },
  {
   "cell_type": "code",
   "execution_count": 6,
   "id": "3688eeab-7a3d-4a1b-8afd-bade2cacf90b",
   "metadata": {},
   "outputs": [
    {
     "name": "stdin",
     "output_type": "stream",
     "text": [
      " 4\n"
     ]
    },
    {
     "name": "stdout",
     "output_type": "stream",
     "text": [
      "a la luy thua cua 2\n"
     ]
    }
   ],
   "source": [
    "a = int(input())\n",
    "if a & (a - 1) == 0:\n",
    "    print(\"a la luy thua cua 2\")\n",
    "else:\n",
    "    print(\"a ko phai la luy thua cua 2\")"
   ]
  },
  {
   "cell_type": "markdown",
   "id": "cfd5eafd-ccb1-4527-8636-8e92e858b698",
   "metadata": {},
   "source": [
    "# W3A4"
   ]
  },
  {
   "cell_type": "code",
   "execution_count": 16,
   "id": "91d1ca20-3a78-4aa3-bca4-54208a30e6b3",
   "metadata": {},
   "outputs": [
    {
     "name": "stdin",
     "output_type": "stream",
     "text": [
      " 3\n",
      " 4\n"
     ]
    }
   ],
   "source": [
    "import math\n",
    "m = float(input())\n",
    "n = float(input())"
   ]
  },
  {
   "cell_type": "code",
   "execution_count": 18,
   "id": "62ad5308-16e6-40cf-b773-c3d67a347eee",
   "metadata": {},
   "outputs": [
    {
     "name": "stdout",
     "output_type": "stream",
     "text": [
      "m/n=0\n"
     ]
    }
   ],
   "source": [
    "ket_qua = math.floor(m / n)\n",
    "print(f\"m/n={ket_qua}\")"
   ]
  },
  {
   "cell_type": "markdown",
   "id": "61b5ec8c-518e-4601-a1b4-0c12956167c2",
   "metadata": {},
   "source": [
    "# W3A5"
   ]
  },
  {
   "cell_type": "code",
   "execution_count": 7,
   "id": "a4abcc37-b30f-412e-965c-4d9a85df0c17",
   "metadata": {},
   "outputs": [],
   "source": [
    "import math"
   ]
  },
  {
   "cell_type": "code",
   "execution_count": 8,
   "id": "37635faf-20fe-4e67-b914-c326ead4088b",
   "metadata": {},
   "outputs": [
    {
     "name": "stdin",
     "output_type": "stream",
     "text": [
      " 3\n",
      " 4\n"
     ]
    },
    {
     "name": "stdout",
     "output_type": "stream",
     "text": [
      "m/n=1\n"
     ]
    }
   ],
   "source": [
    "m = float(input())\n",
    "n = float(input())\n",
    "ket_qua = math.ceil(m / n)\n",
    "print(f\"m/n={ket_qua}\")"
   ]
  },
  {
   "cell_type": "markdown",
   "id": "da1d1b32-d14f-49a6-9425-7f12ced83ed8",
   "metadata": {},
   "source": [
    "# W3A6"
   ]
  },
  {
   "cell_type": "code",
   "execution_count": 23,
   "id": "ce45a4cb-3e72-46b3-8135-33a0fda42d52",
   "metadata": {},
   "outputs": [
    {
     "name": "stdin",
     "output_type": "stream",
     "text": [
      " 12\n"
     ]
    }
   ],
   "source": [
    "m = int(input())"
   ]
  },
  {
   "cell_type": "code",
   "execution_count": 24,
   "id": "6e9aafa3-50c3-43ac-9dc2-96e5a599b83b",
   "metadata": {},
   "outputs": [
    {
     "name": "stdout",
     "output_type": "stream",
     "text": [
      "even\n"
     ]
    }
   ],
   "source": [
    "if m % 2 ==0:\n",
    "    print(\"even\")\n",
    "else:\n",
    "    print(\"odd\")"
   ]
  },
  {
   "cell_type": "markdown",
   "id": "e906caa2-033d-4ccc-9a4c-a997760974aa",
   "metadata": {},
   "source": [
    "# W3A7"
   ]
  },
  {
   "cell_type": "code",
   "execution_count": 35,
   "id": "bab12611-8370-4de3-b048-9fd2ecc1d622",
   "metadata": {},
   "outputs": [
    {
     "name": "stdin",
     "output_type": "stream",
     "text": [
      " 5\n",
      " 6\n"
     ]
    }
   ],
   "source": [
    "a = float(input())\n",
    "b = float(input())"
   ]
  },
  {
   "cell_type": "code",
   "execution_count": 36,
   "id": "ab5c35d6-b995-4a70-b221-ef1c55e6e15a",
   "metadata": {},
   "outputs": [
    {
     "name": "stdout",
     "output_type": "stream",
     "text": [
      "no\n"
     ]
    }
   ],
   "source": [
    "if a and b < 0:\n",
    "    print(\"yes\")\n",
    "else:\n",
    "    print(\"no\")"
   ]
  },
  {
   "cell_type": "markdown",
   "id": "bc803e82-c4d8-4c29-98b6-631bd6dbad05",
   "metadata": {},
   "source": [
    "# W3A8"
   ]
  },
  {
   "cell_type": "code",
   "execution_count": 37,
   "id": "54531ab0-8580-4ce4-ba3e-e27cbe2181ca",
   "metadata": {},
   "outputs": [
    {
     "name": "stdin",
     "output_type": "stream",
     "text": [
      " ạdioajsdoajsdjasi\n",
      " ss\n"
     ]
    },
    {
     "name": "stdout",
     "output_type": "stream",
     "text": [
      "true\n"
     ]
    }
   ],
   "source": [
    "a = input()\n",
    "b = input()\n",
    "if len(a) > len(b):\n",
    "    print(\"true\")\n",
    "else:\n",
    "    print(\"false\")"
   ]
  },
  {
   "cell_type": "markdown",
   "id": "eb9a736a-1322-4f5d-84c6-2e02adf048df",
   "metadata": {},
   "source": [
    "# W3A9"
   ]
  },
  {
   "cell_type": "code",
   "execution_count": 40,
   "id": "f37e8f81-68d8-4988-a58f-f25b74546eb6",
   "metadata": {},
   "outputs": [
    {
     "name": "stdin",
     "output_type": "stream",
     "text": [
      " 3 4 5\n"
     ]
    }
   ],
   "source": [
    "a , b , c = map(int,input().split())"
   ]
  },
  {
   "cell_type": "code",
   "execution_count": 41,
   "id": "4fe8e393-1f79-43f2-ab38-bfb18397eab2",
   "metadata": {},
   "outputs": [
    {
     "name": "stdout",
     "output_type": "stream",
     "text": [
      "Yes\n"
     ]
    }
   ],
   "source": [
    "if a + b > c and a + c > b and b + c > a:\n",
    "    print(\"Yes\")\n",
    "else:\n",
    "    print(\"No\")"
   ]
  },
  {
   "cell_type": "markdown",
   "id": "bc3a8782-797c-422e-adf7-5ba70e2b66fb",
   "metadata": {},
   "source": [
    "# W3A10"
   ]
  },
  {
   "cell_type": "code",
   "execution_count": 42,
   "id": "6f2afde2-77e5-4c77-bac4-a034a3e95409",
   "metadata": {},
   "outputs": [
    {
     "name": "stdin",
     "output_type": "stream",
     "text": [
      " 5 2 3 66\n"
     ]
    },
    {
     "name": "stdout",
     "output_type": "stream",
     "text": [
      "Số lớn nhất là: 66\n"
     ]
    }
   ],
   "source": [
    "a, b, c, d = map(int, input().split())\n",
    "\n",
    "print(\"Số lớn nhất là:\", max(a, b, c, d))"
   ]
  },
  {
   "cell_type": "markdown",
   "id": "8ec194ab-3dc0-4817-ba9c-e6259d815142",
   "metadata": {},
   "source": [
    "# W3A11"
   ]
  },
  {
   "cell_type": "code",
   "execution_count": 57,
   "id": "b8d525f2-7fdb-4668-85a5-d02fb07c4ebb",
   "metadata": {},
   "outputs": [
    {
     "name": "stdin",
     "output_type": "stream",
     "text": [
      " 2 2 5\n"
     ]
    },
    {
     "name": "stdout",
     "output_type": "stream",
     "text": [
      "khong phai tam giac\n"
     ]
    }
   ],
   "source": [
    "a , b , c = map(int, input().split())\n",
    "if a + b < c or a + c < b or b + c < a:\n",
    "    print(\"khong phai tam giac\")\n",
    "elif a == b != c or a == c != b or b == c != a:\n",
    "    print(\"tam giac can\")\n",
    "elif a == b == c:\n",
    "    print(\"tam giac deu\")\n",
    "else:\n",
    "    print(\"tam giac thuong\")"
   ]
  },
  {
   "cell_type": "markdown",
   "id": "0a08ec6f-2df2-47dc-8e8f-9198b54e3026",
   "metadata": {},
   "source": [
    "# W3A12"
   ]
  },
  {
   "cell_type": "code",
   "execution_count": 63,
   "id": "49d9b68f-9e33-41c0-8b29-262aa849008d",
   "metadata": {},
   "outputs": [
    {
     "name": "stdin",
     "output_type": "stream",
     "text": [
      " 2346\n"
     ]
    },
    {
     "name": "stdout",
     "output_type": "stream",
     "text": [
      "khong phai nam nhuan\n"
     ]
    }
   ],
   "source": [
    "a = int(input())\n",
    "if a % 4 == 0 and a % 100 != 0 or a % 400 ==0 :\n",
    "    print(\"nam nhuan\")\n",
    "else:\n",
    "    print(\"khong phai nam nhuan\")"
   ]
  },
  {
   "cell_type": "markdown",
   "id": "dc5d3a18-dcb2-402e-945b-e6fa1c418487",
   "metadata": {},
   "source": [
    "# W3A14"
   ]
  },
  {
   "cell_type": "code",
   "execution_count": 70,
   "id": "4fc7089b-7943-4e66-a189-289ab171c6ec",
   "metadata": {},
   "outputs": [
    {
     "name": "stdin",
     "output_type": "stream",
     "text": [
      " 9 3\n"
     ]
    },
    {
     "name": "stdout",
     "output_type": "stream",
     "text": [
      "-0.33\n"
     ]
    }
   ],
   "source": [
    "a , b = map(int, input().split())\n",
    "x = -b / a\n",
    "if a * x + b == 0 :\n",
    "    print(round(x, 2))\n",
    "elif a == 0 and b == 0:\n",
    "    print(\"vo so nghiem\")\n",
    "else:\n",
    "    print(\"vo nghiem\")\n"
   ]
  },
  {
   "cell_type": "markdown",
   "id": "cd8aa3a8-4652-43fb-a334-672bdddd255a",
   "metadata": {},
   "source": [
    "# W3A15"
   ]
  },
  {
   "cell_type": "code",
   "execution_count": 74,
   "id": "ccf9e267-775e-43d4-b47b-b7b212f38eb9",
   "metadata": {},
   "outputs": [
    {
     "name": "stdin",
     "output_type": "stream",
     "text": [
      " 4\n"
     ]
    },
    {
     "name": "stdout",
     "output_type": "stream",
     "text": [
      "yeu\n"
     ]
    }
   ],
   "source": [
    "x= float(input())\n",
    "def hocluc(X):\n",
    "    if x > 10 or x < 0:\n",
    "        print(\"hoc luc ko hop le!\")\n",
    "        return\n",
    "    elif x >= 8.0:\n",
    "        print(\"gioi\")\n",
    "    elif x >= 6.5:\n",
    "        print(\"kha\")\n",
    "    elif x >= 5.0:\n",
    "        print(\"trung binh\")\n",
    "    else:\n",
    "        print(\"yeu\")\n",
    "hocluc(x)"
   ]
  },
  {
   "cell_type": "markdown",
   "id": "4bcd3ecd-eb3a-4737-bed8-1181ada13c86",
   "metadata": {},
   "source": [
    "# W3A16\n",
    "lam tron xuong:down\n",
    "lam tren len : up\n",
    "lam tron den so gan nhat:nearest"
   ]
  },
  {
   "cell_type": "code",
   "execution_count": 75,
   "id": "8e9835c9-9a0e-46ec-a4c2-e96d78d09f27",
   "metadata": {},
   "outputs": [
    {
     "name": "stdin",
     "output_type": "stream",
     "text": [
      " 4.66\n"
     ]
    },
    {
     "name": "stdout",
     "output_type": "stream",
     "text": [
      "5 4 5\n"
     ]
    }
   ],
   "source": [
    "x = float(input())\n",
    "down = int(x)\n",
    "if x > 0 and x != int(x):\n",
    "    up = int(x) + 1\n",
    "elif x < 0 and x != int(x):\n",
    "    up = int(x)\n",
    "    down = int(x) - 1  \n",
    "else:\n",
    "    up = int(x)\n",
    "if x - int(x) >= 0.5:\n",
    "    nearest = int(x) + 1\n",
    "elif x - int(x) <= -0.5:\n",
    "    nearest = int(x) - 1\n",
    "else:\n",
    "    nearest = int(x)\n",
    "print(up, down, nearest)"
   ]
  },
  {
   "cell_type": "markdown",
   "id": "098a7429-ce5c-4900-965d-32ad3a5b557f",
   "metadata": {},
   "source": [
    "# W3A17"
   ]
  },
  {
   "cell_type": "code",
   "execution_count": 81,
   "id": "fd0a51a1-6659-403f-b68f-f25d09f39e98",
   "metadata": {},
   "outputs": [
    {
     "name": "stdin",
     "output_type": "stream",
     "text": [
      " 3 6 12 24\n"
     ]
    },
    {
     "name": "stdout",
     "output_type": "stream",
     "text": [
      "La cap so nhan\n"
     ]
    }
   ],
   "source": [
    "a , b , c , d = map(int, input().split())\n",
    "if b % a == 0:\n",
    "    r = b // a \n",
    "    if b * r == c and c * r == d:\n",
    "        print(\"La cap so nhan\")\n",
    "    else:\n",
    "        print(\"Khong phai cap so nhan\")\n",
    "else:\n",
    "    print(\"Khong phai cap so nhan\")"
   ]
  },
  {
   "cell_type": "code",
   "execution_count": null,
   "id": "98988342-79a5-4f41-aa23-778477bc580e",
   "metadata": {},
   "outputs": [],
   "source": []
  }
 ],
 "metadata": {
  "kernelspec": {
   "display_name": "Python 3 (ipykernel)",
   "language": "python",
   "name": "python3"
  },
  "language_info": {
   "codemirror_mode": {
    "name": "ipython",
    "version": 3
   },
   "file_extension": ".py",
   "mimetype": "text/x-python",
   "name": "python",
   "nbconvert_exporter": "python",
   "pygments_lexer": "ipython3",
   "version": "3.13.5"
  }
 },
 "nbformat": 4,
 "nbformat_minor": 5
}

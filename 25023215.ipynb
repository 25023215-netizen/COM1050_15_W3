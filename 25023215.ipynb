{
 "cells": [
  {
   "cell_type": "markdown",
   "id": "cfd5eafd-ccb1-4527-8636-8e92e858b698",
   "metadata": {},
   "source": [
    "# Bai 4\n",
    "ceil():làm tròn lên\n",
    "floor():làm tròn xuống"
   ]
  },
  {
   "cell_type": "code",
   "execution_count": 8,
   "id": "91d1ca20-3a78-4aa3-bca4-54208a30e6b3",
   "metadata": {},
   "outputs": [
    {
     "name": "stdin",
     "output_type": "stream",
     "text": [
      " 3 4\n"
     ]
    },
    {
     "ename": "ValueError",
     "evalue": "could not convert string to float: '3 4'",
     "output_type": "error",
     "traceback": [
      "\u001b[31m---------------------------------------------------------------------------\u001b[39m",
      "\u001b[31mValueError\u001b[39m                                Traceback (most recent call last)",
      "\u001b[36mCell\u001b[39m\u001b[36m \u001b[39m\u001b[32mIn[8]\u001b[39m\u001b[32m, line 1\u001b[39m\n\u001b[32m----> \u001b[39m\u001b[32m1\u001b[39m m = \u001b[38;5;28mstr\u001b[39m(\u001b[38;5;28;43mfloat\u001b[39;49m\u001b[43m(\u001b[49m\u001b[38;5;28;43minput\u001b[39;49m\u001b[43m(\u001b[49m\u001b[43m)\u001b[49m\u001b[43m)\u001b[49m)\n\u001b[32m      2\u001b[39m n = \u001b[38;5;28mstr\u001b[39m(\u001b[38;5;28mfloat\u001b[39m(\u001b[38;5;28minput\u001b[39m()))\n",
      "\u001b[31mValueError\u001b[39m: could not convert string to float: '3 4'"
     ]
    }
   ],
   "source": [
    "m = float(input())\n",
    "n = float(input())"
   ]
  },
  {
   "cell_type": "code",
   "execution_count": 6,
   "id": "62ad5308-16e6-40cf-b773-c3d67a347eee",
   "metadata": {},
   "outputs": [
    {
     "ename": "NameError",
     "evalue": "name 'floor' is not defined",
     "output_type": "error",
     "traceback": [
      "\u001b[31m---------------------------------------------------------------------------\u001b[39m",
      "\u001b[31mNameError\u001b[39m                                 Traceback (most recent call last)",
      "\u001b[36mCell\u001b[39m\u001b[36m \u001b[39m\u001b[32mIn[6]\u001b[39m\u001b[32m, line 1\u001b[39m\n\u001b[32m----> \u001b[39m\u001b[32m1\u001b[39m ket_qua = \u001b[43mfloor\u001b[49m(m / n)\n\u001b[32m      2\u001b[39m \u001b[38;5;28mprint\u001b[39m(\u001b[33mf\u001b[39m\u001b[33m\"\u001b[39m\u001b[33mm/n=\u001b[39m\u001b[38;5;132;01m{\u001b[39;00mket_qua\u001b[38;5;132;01m}\u001b[39;00m\u001b[33m\"\u001b[39m)\n",
      "\u001b[31mNameError\u001b[39m: name 'floor' is not defined"
     ]
    }
   ],
   "source": [
    "ket_qua = floor(m / n)\n",
    "print(f\"m/n={ket_qua}\")"
   ]
  },
  {
   "cell_type": "code",
   "execution_count": null,
   "id": "8e021753-e3aa-40d6-92bc-2bc1e1fbfc8e",
   "metadata": {},
   "outputs": [],
   "source": []
  }
 ],
 "metadata": {
  "kernelspec": {
   "display_name": "Python 3 (ipykernel)",
   "language": "python",
   "name": "python3"
  },
  "language_info": {
   "codemirror_mode": {
    "name": "ipython",
    "version": 3
   },
   "file_extension": ".py",
   "mimetype": "text/x-python",
   "name": "python",
   "nbconvert_exporter": "python",
   "pygments_lexer": "ipython3",
   "version": "3.13.5"
  }
 },
 "nbformat": 4,
 "nbformat_minor": 5
}

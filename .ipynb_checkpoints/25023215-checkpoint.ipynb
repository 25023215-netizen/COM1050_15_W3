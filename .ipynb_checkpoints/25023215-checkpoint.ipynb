{
 "cells": [
  {
   "cell_type": "markdown",
   "id": "cfd5eafd-ccb1-4527-8636-8e92e858b698",
   "metadata": {},
   "source": [
    "# Bai 4\n",
    "ceil():làm tròn lên\n",
    "floor():làm tròn xuống"
   ]
  },
  {
   "cell_type": "code",
   "execution_count": 16,
   "id": "91d1ca20-3a78-4aa3-bca4-54208a30e6b3",
   "metadata": {},
   "outputs": [
    {
     "name": "stdin",
     "output_type": "stream",
     "text": [
      " 3\n",
      " 4\n"
     ]
    }
   ],
   "source": [
    "import math\n",
    "m = float(input())\n",
    "n = float(input())"
   ]
  },
  {
   "cell_type": "code",
   "execution_count": 17,
   "id": "62ad5308-16e6-40cf-b773-c3d67a347eee",
   "metadata": {},
   "outputs": [
    {
     "name": "stdout",
     "output_type": "stream",
     "text": [
      "m/n=0\n"
     ]
    }
   ],
   "source": [
    "ket_qua = math.floor(m / n)\n",
    "print(f\"m/n={ket_qua}\")"
   ]
  },
  {
   "cell_type": "code",
   "execution_count": null,
   "id": "8e021753-e3aa-40d6-92bc-2bc1e1fbfc8e",
   "metadata": {},
   "outputs": [],
   "source": []
  }
 ],
 "metadata": {
  "kernelspec": {
   "display_name": "Python 3 (ipykernel)",
   "language": "python",
   "name": "python3"
  },
  "language_info": {
   "codemirror_mode": {
    "name": "ipython",
    "version": 3
   },
   "file_extension": ".py",
   "mimetype": "text/x-python",
   "name": "python",
   "nbconvert_exporter": "python",
   "pygments_lexer": "ipython3",
   "version": "3.13.5"
  }
 },
 "nbformat": 4,
 "nbformat_minor": 5
}
